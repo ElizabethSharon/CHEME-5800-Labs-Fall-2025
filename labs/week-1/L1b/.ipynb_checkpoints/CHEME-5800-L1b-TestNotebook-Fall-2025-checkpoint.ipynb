{
 "cells": [
  {
   "cell_type": "markdown",
   "id": "02399095-fca8-4b45-960e-60119ee99b5c",
   "metadata": {},
   "source": [
    "# L1b: Let's test a notebook!\n",
    "In this test, we'll load [the `Include.jl` file](src/Include.jl) using [the `include(...)` method](https://docs.julialang.org/en/v1/base/base/#include), then we'll run some simple plotting commands using [methods exported by the `UnicodePlots.jl` package](https://github.com/JuliaPlots/UnicodePlots.jl)\n",
    "\n",
    "> __What does `include(...)` do?__ The [include command](https://docs.julialang.org/en/v1/base/base/#include) evaluates the contents of the input source file, [`Include.jl`](src/Include.jl), in the notebook's global scope. The `Include.jl` file sets paths, loads required external packages, etc. For additional information on functions and types used in this material, see the [Julia programming language documentation](https://docs.julialang.org/en/v1/). \n",
    "\n",
    "Let's go!\n",
    "___"
   ]
  },
  {
   "cell_type": "markdown",
   "id": "151e97f3-bf3f-401d-83ac-ad76d32098d3",
   "metadata": {},
   "source": [
    "## Setup, Data, and Prerequisites\n",
    "\n",
    "In our case, our `Include.jl` file will set paths so our notebook knows were to find things, and then will load external packages in the global score with [the `using` command](https://docs.julialang.org/en/v1/base/base/#using). This makes the content of the package visible to us. "
   ]
  },
  {
   "cell_type": "code",
   "execution_count": 3,
   "id": "0daa5004-a05c-498d-879a-58c5fb290b5b",
   "metadata": {},
   "outputs": [],
   "source": [
    "include(joinpath(@__DIR__, \"Include.jl\")); # what is going on here?"
   ]
  },
  {
   "cell_type": "markdown",
   "id": "86233f56-43e0-4482-9f8f-9c7bbf69f51f",
   "metadata": {},
   "source": [
    "Now that we have our environment setup, we can do some stuff."
   ]
  },
  {
   "cell_type": "markdown",
   "id": "b4c2ba40-15f8-4def-a9bd-7a82c4551ba1",
   "metadata": {},
   "source": [
    "## Task: Let's build and visualize a Normal Distribution\n",
    "In this task, let's test our installation by smapling a model of [a Normal probability distribution](https://en.wikipedia.org/wiki/Normal_distribution), and then visualizing the samples.\n",
    "\n",
    "First, let's draw sample from the distribution and save them in the `samples::Array{Float64,1}` array:"
   ]
  },
  {
   "cell_type": "code",
   "execution_count": 6,
   "id": "18d55b6f-e54f-4cb5-a4aa-eb70a91b6cbf",
   "metadata": {},
   "outputs": [],
   "source": [
    "samples = let\n",
    "\n",
    "    # initialize -\n",
    "    number_of_samples = 10000; # set the number of samples we want to generate\n",
    "    samples = randn(number_of_samples);\n",
    "\n",
    "    samples; # return\n",
    "end;"
   ]
  },
  {
   "cell_type": "markdown",
   "id": "f0b91fd5-749f-45ed-9d91-bd33efca1652",
   "metadata": {},
   "source": [
    "Now, let's plot the `sample::Array{Float64,1}` array using [the `Plot(...)` method exported by the `UnicodePlots.jl` package](https://juliaplots.org/UnicodePlots.jl/stable/api/#UnicodePlots.Plot)"
   ]
  },
  {
   "cell_type": "code",
   "execution_count": 13,
   "id": "96fd5cc1-eabe-442e-bc24-46545f9631c1",
   "metadata": {},
   "outputs": [
    {
     "ename": "LoadError",
     "evalue": "UndefVarError: `plot` not defined in `Main`\nSuggestion: check for spelling errors or missing imports.",
     "output_type": "error",
     "traceback": [
      "UndefVarError: `plot` not defined in `Main`\nSuggestion: check for spelling errors or missing imports.",
      "",
      "Stacktrace:",
      " [1] top-level scope",
      "   @ In[13]:1"
     ]
    }
   ],
   "source": [
    "plot(samples)"
   ]
  },
  {
   "cell_type": "code",
   "execution_count": null,
   "id": "4bdb5ee9-f543-4506-83b7-6705924d9299",
   "metadata": {},
   "outputs": [],
   "source": []
  }
 ],
 "metadata": {
  "kernelspec": {
   "display_name": "Julia 1.11.6",
   "language": "julia",
   "name": "julia-1.11"
  },
  "language_info": {
   "file_extension": ".jl",
   "mimetype": "application/julia",
   "name": "julia",
   "version": "1.11.6"
  }
 },
 "nbformat": 4,
 "nbformat_minor": 5
}
